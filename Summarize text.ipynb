{
 "cells": [
  {
   "cell_type": "markdown",
   "id": "67f2d853",
   "metadata": {},
   "source": [
    "# Summarize text"
   ]
  },
  {
   "cell_type": "code",
   "execution_count": 1,
   "id": "3f5010d1",
   "metadata": {},
   "outputs": [],
   "source": [
    "#import paskages \n",
    "from transformers import AutoTokenizer,AutoModelForSeq2SeqLM"
   ]
  },
  {
   "cell_type": "code",
   "execution_count": null,
   "id": "8b2824dd",
   "metadata": {},
   "outputs": [],
   "source": [
    "#model "
   ]
  }
 ],
 "metadata": {
  "kernelspec": {
   "display_name": "Python 3 (ipykernel)",
   "language": "python",
   "name": "python3"
  },
  "language_info": {
   "codemirror_mode": {
    "name": "ipython",
    "version": 3
   },
   "file_extension": ".py",
   "mimetype": "text/x-python",
   "name": "python",
   "nbconvert_exporter": "python",
   "pygments_lexer": "ipython3",
   "version": "3.9.13"
  }
 },
 "nbformat": 4,
 "nbformat_minor": 5
}
