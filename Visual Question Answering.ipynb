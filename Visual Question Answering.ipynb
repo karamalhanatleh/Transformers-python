{
 "cells": [
  {
   "cell_type": "markdown",
   "id": "af63fa99",
   "metadata": {},
   "source": [
    "# Visual Question Answering\n"
   ]
  },
  {
   "cell_type": "markdown",
   "id": "4da236ac",
   "metadata": {},
   "source": [
    "###### This script showcases how to use a pretrained model to generate descriptive captions for images.\n",
    "\n",
    "\n",
    "\n",
    "\n",
    "\n",
    "\n"
   ]
  },
  {
   "cell_type": "markdown",
   "id": "dd57062b",
   "metadata": {},
   "source": [
    "Conditional Image Captioning: Generates a caption based on the image and a provided text prompt.<br>\n",
    "-Uses additional text to guide the model, which helps focus on specific aspects or themes related to the image.\n",
    "    \n"
   ]
  },
  {
   "cell_type": "markdown",
   "id": "fbb1080e",
   "metadata": {},
   "source": [
    "Unconditional Image Captioning: Generates a caption based purely on the image content.<br>\n",
    "-Relies only on the image itself, producing a caption based on the visual content without any external context."
   ]
  },
  {
   "cell_type": "code",
   "execution_count": 1,
   "id": "487f1866",
   "metadata": {},
   "outputs": [
    {
     "name": "stderr",
     "output_type": "stream",
     "text": [
      "C:\\Users\\DELL\\anaconda3\\lib\\site-packages\\transformers\\utils\\generic.py:311: FutureWarning: `torch.utils._pytree._register_pytree_node` is deprecated. Please use `torch.utils._pytree.register_pytree_node` instead.\n",
      "  torch.utils._pytree._register_pytree_node(\n"
     ]
    },
    {
     "name": "stdout",
     "output_type": "stream",
     "text": [
      "WARNING:tensorflow:From C:\\Users\\DELL\\anaconda3\\lib\\site-packages\\keras\\src\\losses.py:2976: The name tf.losses.sparse_softmax_cross_entropy is deprecated. Please use tf.compat.v1.losses.sparse_softmax_cross_entropy instead.\n",
      "\n"
     ]
    },
    {
     "name": "stderr",
     "output_type": "stream",
     "text": [
      "C:\\Users\\DELL\\anaconda3\\lib\\site-packages\\transformers\\utils\\generic.py:311: FutureWarning: `torch.utils._pytree._register_pytree_node` is deprecated. Please use `torch.utils._pytree.register_pytree_node` instead.\n",
      "  torch.utils._pytree._register_pytree_node(\n"
     ]
    }
   ],
   "source": [
    "#import paskages\n",
    "import requests\n",
    "from PIL import Image\n",
    "from transformers import BlipProcessor, BlipForConditionalGeneration\n"
   ]
  },
  {
   "cell_type": "code",
   "execution_count": null,
   "id": "d7341656",
   "metadata": {},
   "outputs": [],
   "source": []
  },
  {
   "cell_type": "code",
   "execution_count": 2,
   "id": "d51ae9f0",
   "metadata": {},
   "outputs": [],
   "source": [
    "#load processor \n",
    "processor =BlipProcessor.from_pretrained(\"Salesforce/blip-image-captioning-large\")\n"
   ]
  },
  {
   "cell_type": "code",
   "execution_count": 3,
   "id": "8aa7fdb4",
   "metadata": {},
   "outputs": [],
   "source": [
    "#load model\n",
    "model=BlipForConditionalGeneration.from_pretrained(\"Salesforce/blip-image-captioning-large\")"
   ]
  },
  {
   "cell_type": "code",
   "execution_count": null,
   "id": "fcbda3b2",
   "metadata": {},
   "outputs": [],
   "source": []
  },
  {
   "cell_type": "code",
   "execution_count": 4,
   "id": "97fe67be",
   "metadata": {},
   "outputs": [],
   "source": [
    "#url image\n",
    "img_url = 'https://storage.googleapis.com/sfr-vision-language-research/BLIP/demo.jpg'\n"
   ]
  },
  {
   "cell_type": "code",
   "execution_count": 6,
   "id": "9d2d412e",
   "metadata": {},
   "outputs": [],
   "source": [
    "#load image \n",
    "raw_img=Image.open(requests.get(img_url , stream=True).raw).convert(\"RGB\")"
   ]
  },
  {
   "cell_type": "code",
   "execution_count": null,
   "id": "7c4758fb",
   "metadata": {},
   "outputs": [],
   "source": []
  },
  {
   "cell_type": "markdown",
   "id": "f32c88ef",
   "metadata": {},
   "source": [
    "###### conditional image captioning"
   ]
  },
  {
   "cell_type": "code",
   "execution_count": 7,
   "id": "b8f25200",
   "metadata": {},
   "outputs": [],
   "source": [
    "# \n",
    "text = \"a photography of\"\n",
    "inputs=processor(raw_img , text , return_tensors='pt')"
   ]
  },
  {
   "cell_type": "code",
   "execution_count": 8,
   "id": "988bc605",
   "metadata": {},
   "outputs": [
    {
     "name": "stderr",
     "output_type": "stream",
     "text": [
      "C:\\Users\\DELL\\anaconda3\\lib\\site-packages\\transformers\\generation\\utils.py:1260: UserWarning: Using the model-agnostic default `max_length` (=20) to control thegeneration length. We recommend setting `max_new_tokens` to control the maximum length of the generation.\n",
      "  warnings.warn(\n"
     ]
    },
    {
     "name": "stdout",
     "output_type": "stream",
     "text": [
      "a photography of a woman and her dog on the beach\n"
     ]
    }
   ],
   "source": [
    "out=model.generate(**inputs)\n",
    "print(processor.decode(out[0],skip_special_tokens=True))"
   ]
  },
  {
   "cell_type": "code",
   "execution_count": null,
   "id": "44c4d450",
   "metadata": {},
   "outputs": [],
   "source": []
  },
  {
   "cell_type": "markdown",
   "id": "489b72c0",
   "metadata": {},
   "source": [
    "###### unconditional image captioning\n"
   ]
  },
  {
   "cell_type": "code",
   "execution_count": 9,
   "id": "c982660b",
   "metadata": {},
   "outputs": [],
   "source": [
    "inputs = processor(raw_img , return_tensors='pt')"
   ]
  },
  {
   "cell_type": "code",
   "execution_count": 10,
   "id": "78953686",
   "metadata": {},
   "outputs": [
    {
     "name": "stderr",
     "output_type": "stream",
     "text": [
      "C:\\Users\\DELL\\anaconda3\\lib\\site-packages\\transformers\\generation\\utils.py:1260: UserWarning: Using the model-agnostic default `max_length` (=20) to control thegeneration length. We recommend setting `max_new_tokens` to control the maximum length of the generation.\n",
      "  warnings.warn(\n"
     ]
    },
    {
     "name": "stdout",
     "output_type": "stream",
     "text": [
      "woman sitting on the beach with her dog and a cell phone\n"
     ]
    }
   ],
   "source": [
    "out=model.generate(**inputs)\n",
    "print(processor.decode(out[0],skip_special_tokens=True))"
   ]
  },
  {
   "cell_type": "code",
   "execution_count": null,
   "id": "395c6810",
   "metadata": {},
   "outputs": [],
   "source": []
  }
 ],
 "metadata": {
  "kernelspec": {
   "display_name": "Python 3 (ipykernel)",
   "language": "python",
   "name": "python3"
  },
  "language_info": {
   "codemirror_mode": {
    "name": "ipython",
    "version": 3
   },
   "file_extension": ".py",
   "mimetype": "text/x-python",
   "name": "python",
   "nbconvert_exporter": "python",
   "pygments_lexer": "ipython3",
   "version": "3.9.13"
  }
 },
 "nbformat": 4,
 "nbformat_minor": 5
}
